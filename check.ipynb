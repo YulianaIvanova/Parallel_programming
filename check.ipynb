{
  "nbformat": 4,
  "nbformat_minor": 0,
  "metadata": {
    "colab": {
      "provenance": [],
      "authorship_tag": "ABX9TyOowAX2AGTGjK6zpQBt2mF1",
      "include_colab_link": true
    },
    "kernelspec": {
      "name": "python3",
      "display_name": "Python 3"
    },
    "language_info": {
      "name": "python"
    }
  },
  "cells": [
    {
      "cell_type": "markdown",
      "metadata": {
        "id": "view-in-github",
        "colab_type": "text"
      },
      "source": [
        "<a href=\"https://colab.research.google.com/github/YulianaIvanova/Parallel_programming/blob/main/check.ipynb\" target=\"_parent\"><img src=\"https://colab.research.google.com/assets/colab-badge.svg\" alt=\"Open In Colab\"/></a>"
      ]
    },
    {
      "cell_type": "code",
      "execution_count": 38,
      "metadata": {
        "id": "3HxPJ5eQXrW3",
        "colab": {
          "base_uri": "https://localhost:8080/"
        },
        "outputId": "83f33dda-8b4c-49fc-f096-cb87ad98fa52"
      },
      "outputs": [
        {
          "output_type": "execute_result",
          "data": {
            "text/plain": [
              "True"
            ]
          },
          "metadata": {},
          "execution_count": 38
        }
      ],
      "source": [
        "import os\n",
        "import numpy as np\n",
        "\n",
        "def read_file(name_file):\n",
        "  matrix=[]\n",
        "  for eachLine in open(name_file,'rt'):\n",
        "    matrix.append([int(eachRow) for eachRow in eachLine.split()])\n",
        "  matrix.pop(0)#опускаем размер матрицы\n",
        "  matrix=np.array(matrix)\n",
        "  return matrix\n",
        "\n",
        "\n",
        "A=read_file('matrix_A.txt')\n",
        "B=read_file('matrix_B.txt')\n",
        "\n",
        "С_python = np.dot(A,B)\n",
        "\n",
        "C=read_file('matrix_C.txt')\n",
        "\n",
        "(C == С_python).all()"
      ]
    }
  ]
}